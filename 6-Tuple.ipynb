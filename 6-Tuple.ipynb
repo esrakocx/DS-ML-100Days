{
 "cells": [
  {
   "cell_type": "code",
   "execution_count": 1,
   "id": "b21cb915-1878-4c19-949d-a5dadbd95d1e",
   "metadata": {},
   "outputs": [],
   "source": [
    "myList = [10, 'a', 'b', 3.14]"
   ]
  },
  {
   "cell_type": "code",
   "execution_count": 3,
   "id": "36646ca0-c900-4445-a249-144b2da5c846",
   "metadata": {},
   "outputs": [
    {
     "data": {
      "text/plain": [
       "10"
      ]
     },
     "execution_count": 3,
     "metadata": {},
     "output_type": "execute_result"
    }
   ],
   "source": [
    "myList[0]"
   ]
  },
  {
   "cell_type": "code",
   "execution_count": 5,
   "id": "4ab10283-1def-4236-89fa-4f0f505e2ae5",
   "metadata": {},
   "outputs": [],
   "source": [
    "myList[0] = 100"
   ]
  },
  {
   "cell_type": "code",
   "execution_count": 7,
   "id": "7e8d0d41-ea98-4ff3-918f-95031cfdd0d0",
   "metadata": {},
   "outputs": [
    {
     "data": {
      "text/plain": [
       "[100, 'a', 'b', 3.14]"
      ]
     },
     "execution_count": 7,
     "metadata": {},
     "output_type": "execute_result"
    }
   ],
   "source": [
    "myList"
   ]
  },
  {
   "cell_type": "code",
   "execution_count": 11,
   "id": "5d9002de-41fe-4ffc-8467-f687cc938ddf",
   "metadata": {},
   "outputs": [],
   "source": [
    "myTuple = (10, 'a', 'b', 3.14)"
   ]
  },
  {
   "cell_type": "code",
   "execution_count": 15,
   "id": "ab35c01d-3fdb-4584-a6ec-7941f2b72cf2",
   "metadata": {},
   "outputs": [
    {
     "data": {
      "text/plain": [
       "tuple"
      ]
     },
     "execution_count": 15,
     "metadata": {},
     "output_type": "execute_result"
    }
   ],
   "source": [
    "type(myTuple)"
   ]
  },
  {
   "cell_type": "code",
   "execution_count": 17,
   "id": "3a1b7fa9-9098-4bca-a831-a0109f9e13f1",
   "metadata": {},
   "outputs": [
    {
     "data": {
      "text/plain": [
       "10"
      ]
     },
     "execution_count": 17,
     "metadata": {},
     "output_type": "execute_result"
    }
   ],
   "source": [
    "myTuple[0] "
   ]
  },
  {
   "cell_type": "code",
   "execution_count": 21,
   "id": "7d4f2c83-b1ad-4038-8a1d-39c25e4648fc",
   "metadata": {},
   "outputs": [],
   "source": [
    "# myTuple[0] = 100 --> immutability (değiştirilemez)"
   ]
  },
  {
   "cell_type": "code",
   "execution_count": 23,
   "id": "fd8ce94b-6ac4-4ce6-adeb-ce529e16847b",
   "metadata": {},
   "outputs": [
    {
     "data": {
      "text/plain": [
       "(10, 'a', 'b', 3.14)"
      ]
     },
     "execution_count": 23,
     "metadata": {},
     "output_type": "execute_result"
    }
   ],
   "source": [
    "myTuple"
   ]
  },
  {
   "cell_type": "code",
   "execution_count": 25,
   "id": "7006b50c-8df9-414e-8c12-2cd765e84b75",
   "metadata": {},
   "outputs": [
    {
     "data": {
      "text/plain": [
       "1"
      ]
     },
     "execution_count": 25,
     "metadata": {},
     "output_type": "execute_result"
    }
   ],
   "source": [
    "myTuple.index('a')"
   ]
  },
  {
   "cell_type": "code",
   "execution_count": 27,
   "id": "9f47f586-8350-4d89-bab8-6dc5d8337a28",
   "metadata": {},
   "outputs": [
    {
     "data": {
      "text/plain": [
       "1"
      ]
     },
     "execution_count": 27,
     "metadata": {},
     "output_type": "execute_result"
    }
   ],
   "source": [
    "myTuple.count('a')"
   ]
  },
  {
   "cell_type": "code",
   "execution_count": 29,
   "id": "c02fe778-09fd-4ed7-8fa6-43b7e547f86e",
   "metadata": {},
   "outputs": [],
   "source": [
    "resultTuple = (10, 20, 30)"
   ]
  },
  {
   "cell_type": "code",
   "execution_count": 31,
   "id": "c45b8152-d3b1-4262-9008-428f15f17c5e",
   "metadata": {},
   "outputs": [],
   "source": [
    "resultList = list(resultTuple)"
   ]
  },
  {
   "cell_type": "code",
   "execution_count": 35,
   "id": "0aafe3cd-bfaa-4c48-b5bb-b004ad83f0a8",
   "metadata": {},
   "outputs": [
    {
     "data": {
      "text/plain": [
       "list"
      ]
     },
     "execution_count": 35,
     "metadata": {},
     "output_type": "execute_result"
    }
   ],
   "source": [
    "type(resultList)"
   ]
  },
  {
   "cell_type": "code",
   "execution_count": null,
   "id": "fb58a33d-a586-49ed-8904-9de0fc57ca7b",
   "metadata": {},
   "outputs": [],
   "source": []
  }
 ],
 "metadata": {
  "kernelspec": {
   "display_name": "Python 3 (ipykernel)",
   "language": "python",
   "name": "python3"
  },
  "language_info": {
   "codemirror_mode": {
    "name": "ipython",
    "version": 3
   },
   "file_extension": ".py",
   "mimetype": "text/x-python",
   "name": "python",
   "nbconvert_exporter": "python",
   "pygments_lexer": "ipython3",
   "version": "3.12.4"
  }
 },
 "nbformat": 4,
 "nbformat_minor": 5
}
