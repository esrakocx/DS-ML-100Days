{
 "cells": [
  {
   "cell_type": "code",
   "execution_count": 2,
   "id": "0f9da38b-a550-4521-a8c1-9ebe2e23e899",
   "metadata": {
    "panel-layout": {
     "height": 51.140625,
     "visible": true,
     "width": 100
    }
   },
   "outputs": [
    {
     "data": {
      "text/plain": [
       "'hello world'"
      ]
     },
     "execution_count": 2,
     "metadata": {},
     "output_type": "execute_result"
    }
   ],
   "source": [
    "\"hello world\""
   ]
  },
  {
   "cell_type": "code",
   "execution_count": 4,
   "id": "3eb9e410-f7c0-46f9-a7ae-7b904ad2092b",
   "metadata": {
    "panel-layout": {
     "height": 0,
     "visible": true,
     "width": 100
    }
   },
   "outputs": [
    {
     "name": "stdout",
     "output_type": "stream",
     "text": [
      "hello world\n"
     ]
    }
   ],
   "source": [
    "print(\"hello world\")"
   ]
  },
  {
   "cell_type": "code",
   "execution_count": 6,
   "id": "b8e2efa8-06e7-4ec1-b64f-2e85228348b0",
   "metadata": {},
   "outputs": [],
   "source": [
    "name = \"esra\""
   ]
  },
  {
   "cell_type": "code",
   "execution_count": 8,
   "id": "9dae4fba-bdfe-4890-b9e4-b8606ae173bd",
   "metadata": {
    "panel-layout": {
     "height": 10,
     "visible": true,
     "width": 100
    }
   },
   "outputs": [
    {
     "data": {
      "text/plain": [
       "str"
      ]
     },
     "execution_count": 8,
     "metadata": {},
     "output_type": "execute_result"
    }
   ],
   "source": [
    "type(name)"
   ]
  },
  {
   "cell_type": "code",
   "execution_count": 10,
   "id": "08287f00-bae7-4a6d-b2fc-10aa59804a90",
   "metadata": {
    "panel-layout": {
     "height": 51.140625,
     "visible": true,
     "width": 100
    }
   },
   "outputs": [
    {
     "data": {
      "text/plain": [
       "'esra'"
      ]
     },
     "execution_count": 10,
     "metadata": {},
     "output_type": "execute_result"
    }
   ],
   "source": [
    "'esra'"
   ]
  },
  {
   "cell_type": "code",
   "execution_count": 14,
   "id": "b894d62e-c8ff-4a10-ae5f-3d832f4de5dc",
   "metadata": {
    "panel-layout": {
     "height": 51.140625,
     "visible": true,
     "width": 100
    }
   },
   "outputs": [
    {
     "data": {
      "text/plain": [
       "'Esra'"
      ]
     },
     "execution_count": 14,
     "metadata": {},
     "output_type": "execute_result"
    }
   ],
   "source": [
    "name.capitalize()"
   ]
  },
  {
   "cell_type": "code",
   "execution_count": 18,
   "id": "ca5d7b7c-c6ef-4d0f-9714-0bd4b3b93d3f",
   "metadata": {
    "panel-layout": {
     "height": 51.140625,
     "visible": true,
     "width": 100
    }
   },
   "outputs": [
    {
     "data": {
      "text/plain": [
       "'esra'"
      ]
     },
     "execution_count": 18,
     "metadata": {},
     "output_type": "execute_result"
    }
   ],
   "source": [
    "name.casefold()"
   ]
  },
  {
   "cell_type": "code",
   "execution_count": 20,
   "id": "5a78285d-d203-4c2c-af27-73c3f27b16a2",
   "metadata": {},
   "outputs": [],
   "source": [
    "x = 10"
   ]
  },
  {
   "cell_type": "code",
   "execution_count": 22,
   "id": "48b1f0d9-3741-4d4b-b5e6-b9631d2f994f",
   "metadata": {
    "panel-layout": {
     "height": 0,
     "visible": true,
     "width": 100
    }
   },
   "outputs": [
    {
     "name": "stdout",
     "output_type": "stream",
     "text": [
      "Help on built-in function count:\n",
      "\n",
      "count(...) method of builtins.str instance\n",
      "    S.count(sub[, start[, end]]) -> int\n",
      "\n",
      "    Return the number of non-overlapping occurrences of substring sub in\n",
      "    string S[start:end].  Optional arguments start and end are\n",
      "    interpreted as in slice notation.\n",
      "\n"
     ]
    }
   ],
   "source": [
    "help(name.count)"
   ]
  },
  {
   "cell_type": "code",
   "execution_count": 24,
   "id": "c392b89e-9d71-44bd-8cb1-4f2536b036d0",
   "metadata": {
    "panel-layout": {
     "height": 27.140625,
     "visible": true,
     "width": 100
    }
   },
   "outputs": [
    {
     "data": {
      "text/plain": [
       "1"
      ]
     },
     "execution_count": 24,
     "metadata": {},
     "output_type": "execute_result"
    }
   ],
   "source": [
    "name.count('a')"
   ]
  },
  {
   "cell_type": "code",
   "execution_count": 26,
   "id": "eb876de3-b5b5-43e9-a937-5bbee79ad038",
   "metadata": {
    "panel-layout": {
     "height": 27.140625,
     "visible": true,
     "width": 100
    }
   },
   "outputs": [
    {
     "data": {
      "text/plain": [
       "0"
      ]
     },
     "execution_count": 26,
     "metadata": {},
     "output_type": "execute_result"
    }
   ],
   "source": [
    "name.count('b')"
   ]
  },
  {
   "cell_type": "code",
   "execution_count": 28,
   "id": "f77d8522-8253-431f-b426-2ad81a5fb594",
   "metadata": {
    "panel-layout": {
     "height": 51.140625,
     "visible": true,
     "width": 100
    }
   },
   "outputs": [
    {
     "data": {
      "text/plain": [
       "'ESRA'"
      ]
     },
     "execution_count": 28,
     "metadata": {},
     "output_type": "execute_result"
    }
   ],
   "source": [
    "name.upper()"
   ]
  },
  {
   "cell_type": "code",
   "execution_count": 30,
   "id": "2d0ea9c7-b4c6-474d-bf40-618fd3c28903",
   "metadata": {
    "panel-layout": {
     "height": 51.140625,
     "visible": true,
     "width": 100
    }
   },
   "outputs": [
    {
     "data": {
      "text/plain": [
       "'esra'"
      ]
     },
     "execution_count": 30,
     "metadata": {},
     "output_type": "execute_result"
    }
   ],
   "source": [
    "name"
   ]
  },
  {
   "cell_type": "code",
   "execution_count": 32,
   "id": "8bb751a2-a474-4c9b-9eec-b08c9a269477",
   "metadata": {},
   "outputs": [],
   "source": [
    "nameUpper = name.upper()"
   ]
  },
  {
   "cell_type": "code",
   "execution_count": 36,
   "id": "a62986ed-cfe5-487d-b68a-3370ac1b33b7",
   "metadata": {
    "panel-layout": {
     "height": 51.140625,
     "visible": true,
     "width": 100
    }
   },
   "outputs": [
    {
     "data": {
      "text/plain": [
       "'ESRA'"
      ]
     },
     "execution_count": 36,
     "metadata": {},
     "output_type": "execute_result"
    }
   ],
   "source": [
    "nameUpper"
   ]
  },
  {
   "cell_type": "code",
   "execution_count": 38,
   "id": "b28a4153-238e-4fa0-82ec-b3375e1f5e4f",
   "metadata": {
    "panel-layout": {
     "height": 51.140625,
     "visible": true,
     "width": 100
    }
   },
   "outputs": [
    {
     "data": {
      "text/plain": [
       "'esra'"
      ]
     },
     "execution_count": 38,
     "metadata": {},
     "output_type": "execute_result"
    }
   ],
   "source": [
    "name"
   ]
  },
  {
   "cell_type": "code",
   "execution_count": 40,
   "id": "ef84ea51-3fa2-43d0-8d18-455ee6501469",
   "metadata": {
    "panel-layout": {
     "height": 27.140625,
     "visible": true,
     "width": 100
    }
   },
   "outputs": [
    {
     "data": {
      "text/plain": [
       "4"
      ]
     },
     "execution_count": 40,
     "metadata": {},
     "output_type": "execute_result"
    }
   ],
   "source": [
    "len(name) # length"
   ]
  },
  {
   "cell_type": "code",
   "execution_count": 42,
   "id": "e6127eaa-08bb-4e29-ab85-b135158f01ec",
   "metadata": {
    "panel-layout": {
     "height": 0,
     "visible": true,
     "width": 100
    }
   },
   "outputs": [
    {
     "name": "stdout",
     "output_type": "stream",
     "text": [
      "esra\n",
      "koc\n"
     ]
    }
   ],
   "source": [
    "print(\"esra\\nkoc\")"
   ]
  },
  {
   "cell_type": "code",
   "execution_count": 46,
   "id": "81869ae9-8fdd-4f04-a958-85975982b3d5",
   "metadata": {},
   "outputs": [],
   "source": [
    "# \\n -> new line\n",
    "# escape characters\n",
    "# \\t -> tab"
   ]
  },
  {
   "cell_type": "code",
   "execution_count": 48,
   "id": "988c874a-d9d3-4f5e-99b7-49d972679d8e",
   "metadata": {
    "panel-layout": {
     "height": 0,
     "visible": true,
     "width": 100
    }
   },
   "outputs": [
    {
     "name": "stdout",
     "output_type": "stream",
     "text": [
      "esra\tkoc\n"
     ]
    }
   ],
   "source": [
    "print(\"esra\\tkoc\")"
   ]
  },
  {
   "cell_type": "markdown",
   "id": "52454118-f04e-48fd-8fac-c5300a4e42ef",
   "metadata": {
    "panel-layout": {
     "height": 10,
     "visible": true,
     "width": 100
    }
   },
   "source": [
    "# index"
   ]
  },
  {
   "cell_type": "code",
   "execution_count": 59,
   "id": "316941f7-b83d-4077-8522-6f9c5d935d82",
   "metadata": {},
   "outputs": [],
   "source": [
    "myString = \"hello python\""
   ]
  },
  {
   "cell_type": "code",
   "execution_count": 61,
   "id": "80942f3a-c063-447a-a92a-10c39fb92d1d",
   "metadata": {},
   "outputs": [
    {
     "data": {
      "text/plain": [
       "'o'"
      ]
     },
     "execution_count": 61,
     "metadata": {},
     "output_type": "execute_result"
    }
   ],
   "source": [
    "myString[4]"
   ]
  },
  {
   "cell_type": "code",
   "execution_count": 63,
   "id": "629139da-5ab9-4e44-9ef2-a247ed5b220b",
   "metadata": {},
   "outputs": [
    {
     "data": {
      "text/plain": [
       "'e'"
      ]
     },
     "execution_count": 63,
     "metadata": {},
     "output_type": "execute_result"
    }
   ],
   "source": [
    "myString[1]"
   ]
  },
  {
   "cell_type": "code",
   "execution_count": 67,
   "id": "8309e44b-3f98-428a-8a78-31c638f6cc89",
   "metadata": {},
   "outputs": [
    {
     "data": {
      "text/plain": [
       "'o'"
      ]
     },
     "execution_count": 67,
     "metadata": {},
     "output_type": "execute_result"
    }
   ],
   "source": [
    "myString[10]"
   ]
  },
  {
   "cell_type": "code",
   "execution_count": 69,
   "id": "f3601ece-39a1-47f4-8e8b-cc82c223684e",
   "metadata": {},
   "outputs": [
    {
     "data": {
      "text/plain": [
       "'nohtyp olleh'"
      ]
     },
     "execution_count": 69,
     "metadata": {},
     "output_type": "execute_result"
    }
   ],
   "source": [
    "myString[::-1]"
   ]
  },
  {
   "cell_type": "code",
   "execution_count": 71,
   "id": "b3c2f780-c8ca-43bf-9c29-893b9fed8da6",
   "metadata": {},
   "outputs": [
    {
     "data": {
      "text/plain": [
       "12"
      ]
     },
     "execution_count": 71,
     "metadata": {},
     "output_type": "execute_result"
    }
   ],
   "source": [
    "len(myString)"
   ]
  },
  {
   "cell_type": "code",
   "execution_count": 75,
   "id": "85330c22-53e8-4211-8106-5d940307950a",
   "metadata": {},
   "outputs": [
    {
     "data": {
      "text/plain": [
       "11"
      ]
     },
     "execution_count": 75,
     "metadata": {},
     "output_type": "execute_result"
    }
   ],
   "source": [
    "len(myString) - 1 #son karakter"
   ]
  },
  {
   "cell_type": "code",
   "execution_count": 77,
   "id": "952f28d1-4094-45e8-ac12-924ceedf563d",
   "metadata": {},
   "outputs": [
    {
     "data": {
      "text/plain": [
       "'n'"
      ]
     },
     "execution_count": 77,
     "metadata": {},
     "output_type": "execute_result"
    }
   ],
   "source": [
    "myString[len(myString) - 1]"
   ]
  },
  {
   "cell_type": "code",
   "execution_count": 79,
   "id": "f11d846a-c04b-42c3-aa0c-478dedad48b0",
   "metadata": {},
   "outputs": [
    {
     "data": {
      "text/plain": [
       "'n'"
      ]
     },
     "execution_count": 79,
     "metadata": {},
     "output_type": "execute_result"
    }
   ],
   "source": [
    "myString[-1]"
   ]
  },
  {
   "cell_type": "code",
   "execution_count": 81,
   "id": "b6d0a53c-7c43-4894-9a6c-9329cdc2f7e1",
   "metadata": {},
   "outputs": [
    {
     "data": {
      "text/plain": [
       "'o'"
      ]
     },
     "execution_count": 81,
     "metadata": {},
     "output_type": "execute_result"
    }
   ],
   "source": [
    "myString[-2]"
   ]
  },
  {
   "cell_type": "code",
   "execution_count": 83,
   "id": "eaa8ce69-84e1-4722-bde3-290e06a40561",
   "metadata": {},
   "outputs": [],
   "source": [
    "barcode = \"AJTRNJMCW25796\""
   ]
  },
  {
   "cell_type": "code",
   "execution_count": 85,
   "id": "42d0d8fc-4547-4f44-bad7-3eb23c6fb6d5",
   "metadata": {},
   "outputs": [
    {
     "data": {
      "text/plain": [
       "'AB'"
      ]
     },
     "execution_count": 85,
     "metadata": {},
     "output_type": "execute_result"
    }
   ],
   "source": [
    "'A' + 'B'"
   ]
  },
  {
   "cell_type": "code",
   "execution_count": 87,
   "id": "727535c6-b2d3-406e-9cd2-7ad606257903",
   "metadata": {},
   "outputs": [],
   "source": [
    "a = 'A'\n",
    "b = 'B'"
   ]
  },
  {
   "cell_type": "code",
   "execution_count": 89,
   "id": "222886b7-7e33-4683-9deb-6ecc3f9bac20",
   "metadata": {},
   "outputs": [],
   "source": [
    "full = a + b"
   ]
  },
  {
   "cell_type": "code",
   "execution_count": 91,
   "id": "c24b6f15-0409-485d-92ea-836d9a010110",
   "metadata": {},
   "outputs": [
    {
     "name": "stdout",
     "output_type": "stream",
     "text": [
      "AB\n"
     ]
    }
   ],
   "source": [
    "print(full)"
   ]
  },
  {
   "cell_type": "code",
   "execution_count": 93,
   "id": "9966d205-0748-49ad-a30e-223745167943",
   "metadata": {},
   "outputs": [
    {
     "data": {
      "text/plain": [
       "'ABABABABAB'"
      ]
     },
     "execution_count": 93,
     "metadata": {},
     "output_type": "execute_result"
    }
   ],
   "source": [
    "full * 5"
   ]
  },
  {
   "cell_type": "code",
   "execution_count": 95,
   "id": "42d0323e-b89c-4bd1-b3d5-0a47b0003bc7",
   "metadata": {},
   "outputs": [
    {
     "data": {
      "text/plain": [
       "'aaaaaaaaaaaaaaaaaaaaaaaaaaaaaaaaaaaaaaaaaaaaaaaaaaaaaaaaaaaaaaaaaaaaaaaaaaaaaaaaaaaaaaaaaaaaaaaaaaaa'"
      ]
     },
     "execution_count": 95,
     "metadata": {},
     "output_type": "execute_result"
    }
   ],
   "source": [
    "100 * 'a'"
   ]
  },
  {
   "cell_type": "code",
   "execution_count": 97,
   "id": "d865c0dc-0094-43cf-b46e-dae18cba6216",
   "metadata": {},
   "outputs": [
    {
     "data": {
      "text/plain": [
       "'AJT'"
      ]
     },
     "execution_count": 97,
     "metadata": {},
     "output_type": "execute_result"
    }
   ],
   "source": [
    "barcode[0] + barcode[1] + barcode[2]"
   ]
  },
  {
   "cell_type": "code",
   "execution_count": 99,
   "id": "1d468b4a-7b33-4691-92e9-2f96911a2c76",
   "metadata": {},
   "outputs": [],
   "source": [
    "# slicing, starting index, stopping index, stepping index"
   ]
  },
  {
   "cell_type": "code",
   "execution_count": 101,
   "id": "00782cc9-d6df-4ac1-9c7a-824a6a33052c",
   "metadata": {},
   "outputs": [
    {
     "data": {
      "text/plain": [
       "'AJTRNJMCW25796'"
      ]
     },
     "execution_count": 101,
     "metadata": {},
     "output_type": "execute_result"
    }
   ],
   "source": [
    "barcode[::]"
   ]
  },
  {
   "cell_type": "code",
   "execution_count": 103,
   "id": "d650e30a-5335-4951-9892-b9be826aac62",
   "metadata": {},
   "outputs": [],
   "source": [
    "# barcode[starting index:stopping index:stepping index]"
   ]
  },
  {
   "cell_type": "code",
   "execution_count": 107,
   "id": "6f0dd7d9-63c2-4af3-b9d6-5ab16deba545",
   "metadata": {},
   "outputs": [
    {
     "data": {
      "text/plain": [
       "'AJT'"
      ]
     },
     "execution_count": 107,
     "metadata": {},
     "output_type": "execute_result"
    }
   ],
   "source": [
    "barcode[0:3:1]"
   ]
  },
  {
   "cell_type": "code",
   "execution_count": 109,
   "id": "1001d44a-d949-4b76-be1d-2c783765c00f",
   "metadata": {},
   "outputs": [
    {
     "data": {
      "text/plain": [
       "'RNJMCW25796'"
      ]
     },
     "execution_count": 109,
     "metadata": {},
     "output_type": "execute_result"
    }
   ],
   "source": [
    "barcode[3::]"
   ]
  },
  {
   "cell_type": "code",
   "execution_count": 111,
   "id": "4e8e9e42-602e-4297-9525-a9ec9c9c91ac",
   "metadata": {},
   "outputs": [
    {
     "data": {
      "text/plain": [
       "'AJT'"
      ]
     },
     "execution_count": 111,
     "metadata": {},
     "output_type": "execute_result"
    }
   ],
   "source": [
    "barcode[:3:]"
   ]
  },
  {
   "cell_type": "code",
   "execution_count": 113,
   "id": "a275c3ed-83f9-4db9-a785-301afed053eb",
   "metadata": {},
   "outputs": [
    {
     "data": {
      "text/plain": [
       "'AJTRN'"
      ]
     },
     "execution_count": 113,
     "metadata": {},
     "output_type": "execute_result"
    }
   ],
   "source": [
    "barcode[:5:]"
   ]
  },
  {
   "cell_type": "code",
   "execution_count": 115,
   "id": "e65ceb79-fd60-4002-8ea2-263b6e545df7",
   "metadata": {},
   "outputs": [
    {
     "data": {
      "text/plain": [
       "'ARM29'"
      ]
     },
     "execution_count": 115,
     "metadata": {},
     "output_type": "execute_result"
    }
   ],
   "source": [
    "barcode[::3]"
   ]
  },
  {
   "cell_type": "code",
   "execution_count": 117,
   "id": "b219816b-c447-4786-aa9f-b4a6044f7bdc",
   "metadata": {},
   "outputs": [
    {
     "data": {
      "text/plain": [
       "'TR'"
      ]
     },
     "execution_count": 117,
     "metadata": {},
     "output_type": "execute_result"
    }
   ],
   "source": [
    "barcode[2:4:]"
   ]
  },
  {
   "cell_type": "code",
   "execution_count": 119,
   "id": "22e81e65-81e5-4af2-aeb7-c6ffd3245eec",
   "metadata": {},
   "outputs": [],
   "source": [
    "name = \"python is the best\""
   ]
  },
  {
   "cell_type": "code",
   "execution_count": 121,
   "id": "83ad547d-4b57-41f5-a871-c500fb3ace41",
   "metadata": {},
   "outputs": [
    {
     "name": "stdout",
     "output_type": "stream",
     "text": [
      "Help on built-in function index:\n",
      "\n",
      "index(...) method of builtins.str instance\n",
      "    S.index(sub[, start[, end]]) -> int\n",
      "\n",
      "    Return the lowest index in S where substring sub is found,\n",
      "    such that sub is contained within S[start:end].  Optional\n",
      "    arguments start and end are interpreted as in slice notation.\n",
      "\n",
      "    Raises ValueError when the substring is not found.\n",
      "\n"
     ]
    }
   ],
   "source": [
    "help(name.index)"
   ]
  },
  {
   "cell_type": "code",
   "execution_count": 127,
   "id": "686313be-30b4-4923-b143-7d4e8c8a6bfe",
   "metadata": {},
   "outputs": [
    {
     "data": {
      "text/plain": [
       "8"
      ]
     },
     "execution_count": 127,
     "metadata": {},
     "output_type": "execute_result"
    }
   ],
   "source": [
    "name.index('s')"
   ]
  },
  {
   "cell_type": "code",
   "execution_count": 129,
   "id": "46241dbc-a542-4fad-ae8f-e96af096c1fc",
   "metadata": {},
   "outputs": [
    {
     "data": {
      "text/plain": [
       "0"
      ]
     },
     "execution_count": 129,
     "metadata": {},
     "output_type": "execute_result"
    }
   ],
   "source": [
    "name.index('p')"
   ]
  },
  {
   "cell_type": "code",
   "execution_count": 131,
   "id": "6102f669-f613-4f94-9825-07f9c89ccf83",
   "metadata": {},
   "outputs": [
    {
     "data": {
      "text/plain": [
       "['python', 'is', 'the', 'best']"
      ]
     },
     "execution_count": 131,
     "metadata": {},
     "output_type": "execute_result"
    }
   ],
   "source": [
    "name.split()"
   ]
  },
  {
   "cell_type": "code",
   "execution_count": 133,
   "id": "813085e4-325f-4477-bbd6-007dd0ab3faa",
   "metadata": {},
   "outputs": [
    {
     "data": {
      "text/plain": [
       "list"
      ]
     },
     "execution_count": 133,
     "metadata": {},
     "output_type": "execute_result"
    }
   ],
   "source": [
    "type(name.split())"
   ]
  },
  {
   "cell_type": "code",
   "execution_count": null,
   "id": "c31fd5b2-a154-4212-be4e-f848f4bea149",
   "metadata": {},
   "outputs": [],
   "source": []
  }
 ],
 "metadata": {
  "kernelspec": {
   "display_name": "Python 3 (ipykernel)",
   "language": "python",
   "name": "python3"
  },
  "language_info": {
   "codemirror_mode": {
    "name": "ipython",
    "version": 3
   },
   "file_extension": ".py",
   "mimetype": "text/x-python",
   "name": "python",
   "nbconvert_exporter": "python",
   "pygments_lexer": "ipython3",
   "version": "3.12.4"
  },
  "panel-cell-order": [
   "0f9da38b-a550-4521-a8c1-9ebe2e23e899",
   "3eb9e410-f7c0-46f9-a7ae-7b904ad2092b",
   "9dae4fba-bdfe-4890-b9e4-b8606ae173bd",
   "08287f00-bae7-4a6d-b2fc-10aa59804a90",
   "b894d62e-c8ff-4a10-ae5f-3d832f4de5dc",
   "ca5d7b7c-c6ef-4d0f-9714-0bd4b3b93d3f",
   "48b1f0d9-3741-4d4b-b5e6-b9631d2f994f",
   "c392b89e-9d71-44bd-8cb1-4f2536b036d0",
   "eb876de3-b5b5-43e9-a937-5bbee79ad038",
   "f77d8522-8253-431f-b426-2ad81a5fb594",
   "2d0ea9c7-b4c6-474d-bf40-618fd3c28903",
   "a62986ed-cfe5-487d-b68a-3370ac1b33b7",
   "b28a4153-238e-4fa0-82ec-b3375e1f5e4f",
   "ef84ea51-3fa2-43d0-8d18-455ee6501469",
   "e6127eaa-08bb-4e29-ab85-b135158f01ec",
   "988c874a-d9d3-4f5e-99b7-49d972679d8e",
   "52454118-f04e-48fd-8fac-c5300a4e42ef"
  ]
 },
 "nbformat": 4,
 "nbformat_minor": 5
}
