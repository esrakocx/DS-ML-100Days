{
 "cells": [
  {
   "cell_type": "code",
   "execution_count": 2,
   "id": "0dd71287-906a-4fbe-a62d-a32c3ce6216e",
   "metadata": {},
   "outputs": [],
   "source": [
    "# list"
   ]
  },
  {
   "cell_type": "code",
   "execution_count": 6,
   "id": "0901a6f4-eb0c-4526-b36a-9a1d1b70c316",
   "metadata": {},
   "outputs": [],
   "source": [
    "myString = \"hello python\""
   ]
  },
  {
   "cell_type": "code",
   "execution_count": 8,
   "id": "bf1b87fd-839b-449f-a06d-3bbc2dcaedf2",
   "metadata": {},
   "outputs": [
    {
     "data": {
      "text/plain": [
       "'h'"
      ]
     },
     "execution_count": 8,
     "metadata": {},
     "output_type": "execute_result"
    }
   ],
   "source": [
    "myString[0]"
   ]
  },
  {
   "cell_type": "code",
   "execution_count": 33,
   "id": "d8fa0a1b-3d9a-4a35-8571-91e8f031454f",
   "metadata": {},
   "outputs": [],
   "source": [
    "# myString[0] = 'a'\n",
    "# immutability -> strings are immutable"
   ]
  },
  {
   "cell_type": "markdown",
   "id": "10c52892-2256-4ef3-9918-63ae8744c708",
   "metadata": {},
   "source": [
    "# list"
   ]
  },
  {
   "cell_type": "code",
   "execution_count": 19,
   "id": "6c6f97be-f84e-475f-8110-fec7b6bd9b20",
   "metadata": {},
   "outputs": [],
   "source": [
    "myList = [1, 4, 5, 3]"
   ]
  },
  {
   "cell_type": "code",
   "execution_count": 21,
   "id": "80b4db49-a7b9-4d2b-bc2c-4d9d8ef6ad14",
   "metadata": {},
   "outputs": [
    {
     "data": {
      "text/plain": [
       "list"
      ]
     },
     "execution_count": 21,
     "metadata": {},
     "output_type": "execute_result"
    }
   ],
   "source": [
    "type(myList)"
   ]
  },
  {
   "cell_type": "code",
   "execution_count": 23,
   "id": "7f0a0d62-3c88-449d-b6b7-483022cdefa2",
   "metadata": {},
   "outputs": [],
   "source": [
    "x = 10\n",
    "y = 20 \n",
    "z = 30"
   ]
  },
  {
   "cell_type": "code",
   "execution_count": 25,
   "id": "8812c969-cad4-46a2-89c8-346c9cb01470",
   "metadata": {},
   "outputs": [],
   "source": [
    "myList = [x, y, z]"
   ]
  },
  {
   "cell_type": "code",
   "execution_count": 27,
   "id": "d6c01b65-a0d2-4d1a-8fea-a58841ead16b",
   "metadata": {},
   "outputs": [
    {
     "data": {
      "text/plain": [
       "10"
      ]
     },
     "execution_count": 27,
     "metadata": {},
     "output_type": "execute_result"
    }
   ],
   "source": [
    "myList[0]"
   ]
  },
  {
   "cell_type": "code",
   "execution_count": 29,
   "id": "f0f48753-8738-4bed-8a20-e89c179842fb",
   "metadata": {},
   "outputs": [
    {
     "data": {
      "text/plain": [
       "list"
      ]
     },
     "execution_count": 29,
     "metadata": {},
     "output_type": "execute_result"
    }
   ],
   "source": [
    "type(myList)"
   ]
  },
  {
   "cell_type": "code",
   "execution_count": 31,
   "id": "42c29e87-a0e2-4766-b1ec-99668ec23c90",
   "metadata": {},
   "outputs": [
    {
     "data": {
      "text/plain": [
       "int"
      ]
     },
     "execution_count": 31,
     "metadata": {},
     "output_type": "execute_result"
    }
   ],
   "source": [
    "type(myList[0])"
   ]
  },
  {
   "cell_type": "code",
   "execution_count": 35,
   "id": "e6fb451e-4d78-4372-acec-1b94b2a33ee2",
   "metadata": {},
   "outputs": [],
   "source": [
    "myList[0] = 100"
   ]
  },
  {
   "cell_type": "code",
   "execution_count": 39,
   "id": "6112721b-2b59-46b8-8250-13d701f4eb24",
   "metadata": {},
   "outputs": [
    {
     "data": {
      "text/plain": [
       "100"
      ]
     },
     "execution_count": 39,
     "metadata": {},
     "output_type": "execute_result"
    }
   ],
   "source": [
    "myList[0]"
   ]
  },
  {
   "cell_type": "code",
   "execution_count": 41,
   "id": "bf934692-bfd4-4d5f-8721-1c57c283bc3a",
   "metadata": {},
   "outputs": [],
   "source": [
    "# mutability -> lists are mutable"
   ]
  },
  {
   "cell_type": "code",
   "execution_count": 43,
   "id": "9b44b994-53d8-4b5d-a1cb-efc8b0371c63",
   "metadata": {},
   "outputs": [
    {
     "data": {
      "text/plain": [
       "[100, 20, 30]"
      ]
     },
     "execution_count": 43,
     "metadata": {},
     "output_type": "execute_result"
    }
   ],
   "source": [
    "myList"
   ]
  },
  {
   "cell_type": "code",
   "execution_count": 45,
   "id": "305cf2db-48e8-472c-bab0-d7db774b8b1c",
   "metadata": {},
   "outputs": [
    {
     "data": {
      "text/plain": [
       "3"
      ]
     },
     "execution_count": 45,
     "metadata": {},
     "output_type": "execute_result"
    }
   ],
   "source": [
    "len(myList)"
   ]
  },
  {
   "cell_type": "code",
   "execution_count": 49,
   "id": "cb646086-ebdf-4f99-82ea-29ad639c63c1",
   "metadata": {},
   "outputs": [
    {
     "data": {
      "text/plain": [
       "30"
      ]
     },
     "execution_count": 49,
     "metadata": {},
     "output_type": "execute_result"
    }
   ],
   "source": [
    "myList[len(myList) - 1]"
   ]
  },
  {
   "cell_type": "code",
   "execution_count": 51,
   "id": "af94a335-8ed4-4b32-b133-fd33b87d3495",
   "metadata": {},
   "outputs": [
    {
     "data": {
      "text/plain": [
       "30"
      ]
     },
     "execution_count": 51,
     "metadata": {},
     "output_type": "execute_result"
    }
   ],
   "source": [
    "myList[-1]"
   ]
  },
  {
   "cell_type": "code",
   "execution_count": 53,
   "id": "b47ce3d7-9245-4c60-a952-c3d4f47204f1",
   "metadata": {},
   "outputs": [
    {
     "data": {
      "text/plain": [
       "20"
      ]
     },
     "execution_count": 53,
     "metadata": {},
     "output_type": "execute_result"
    }
   ],
   "source": [
    "myList[-2]"
   ]
  },
  {
   "cell_type": "code",
   "execution_count": 55,
   "id": "0b216177-6617-4e3c-8adb-110ebd9898c5",
   "metadata": {},
   "outputs": [],
   "source": [
    "myList.append(80)"
   ]
  },
  {
   "cell_type": "code",
   "execution_count": 57,
   "id": "111dcedd-a004-49fd-b882-a4bbbc7f6dc1",
   "metadata": {},
   "outputs": [
    {
     "data": {
      "text/plain": [
       "[100, 20, 30, 80]"
      ]
     },
     "execution_count": 57,
     "metadata": {},
     "output_type": "execute_result"
    }
   ],
   "source": [
    "myList"
   ]
  },
  {
   "cell_type": "code",
   "execution_count": 59,
   "id": "2807f5e2-5a1b-4e30-98c4-194cb66e9ab3",
   "metadata": {},
   "outputs": [
    {
     "data": {
      "text/plain": [
       "1"
      ]
     },
     "execution_count": 59,
     "metadata": {},
     "output_type": "execute_result"
    }
   ],
   "source": [
    "myList.count(20)"
   ]
  },
  {
   "cell_type": "code",
   "execution_count": 61,
   "id": "377b320f-42a9-4a5e-9ef2-08353c3e715f",
   "metadata": {},
   "outputs": [
    {
     "data": {
      "text/plain": [
       "0"
      ]
     },
     "execution_count": 61,
     "metadata": {},
     "output_type": "execute_result"
    }
   ],
   "source": [
    "myList.count(25)"
   ]
  },
  {
   "cell_type": "code",
   "execution_count": 63,
   "id": "1c505cd9-bf6f-421f-b494-ce83af0f76e4",
   "metadata": {},
   "outputs": [
    {
     "data": {
      "text/plain": [
       "2"
      ]
     },
     "execution_count": 63,
     "metadata": {},
     "output_type": "execute_result"
    }
   ],
   "source": [
    "myList.index(30)"
   ]
  },
  {
   "cell_type": "code",
   "execution_count": 67,
   "id": "26fc360a-a204-4e65-8be1-1d4de35a9f57",
   "metadata": {},
   "outputs": [
    {
     "name": "stdout",
     "output_type": "stream",
     "text": [
      "Help on built-in function insert:\n",
      "\n",
      "insert(index, object, /) method of builtins.list instance\n",
      "    Insert object before index.\n",
      "\n"
     ]
    }
   ],
   "source": [
    "help(myList.insert)"
   ]
  },
  {
   "cell_type": "code",
   "execution_count": 71,
   "id": "a8bf9307-f7e0-40f1-8cd0-6c217e6c1b9b",
   "metadata": {},
   "outputs": [],
   "source": [
    "myList.insert(2, 45)"
   ]
  },
  {
   "cell_type": "code",
   "execution_count": 73,
   "id": "918ea31c-19dd-4e41-97ab-001288429e38",
   "metadata": {},
   "outputs": [
    {
     "data": {
      "text/plain": [
       "[100, 20, 45, 30, 80]"
      ]
     },
     "execution_count": 73,
     "metadata": {},
     "output_type": "execute_result"
    }
   ],
   "source": [
    "myList"
   ]
  },
  {
   "cell_type": "code",
   "execution_count": 77,
   "id": "c872f1ff-d60e-4e72-9eb0-d7cbe72350e9",
   "metadata": {},
   "outputs": [
    {
     "data": {
      "text/plain": [
       "80"
      ]
     },
     "execution_count": 77,
     "metadata": {},
     "output_type": "execute_result"
    }
   ],
   "source": [
    "myList.pop()"
   ]
  },
  {
   "cell_type": "code",
   "execution_count": 79,
   "id": "e6d4fb00-5570-42ee-b129-91609ca1e0f5",
   "metadata": {},
   "outputs": [],
   "source": [
    "myList.reverse()"
   ]
  },
  {
   "cell_type": "code",
   "execution_count": 81,
   "id": "86d0f034-5cf4-4a0c-9c73-7b8a927ed8ec",
   "metadata": {},
   "outputs": [
    {
     "data": {
      "text/plain": [
       "[30, 45, 20, 100]"
      ]
     },
     "execution_count": 81,
     "metadata": {},
     "output_type": "execute_result"
    }
   ],
   "source": [
    "myList"
   ]
  },
  {
   "cell_type": "code",
   "execution_count": 83,
   "id": "82dcc11a-7310-44d5-94c2-612999eba5e8",
   "metadata": {},
   "outputs": [],
   "source": [
    "myList.sort()"
   ]
  },
  {
   "cell_type": "code",
   "execution_count": 85,
   "id": "03dddf94-64f1-433e-a830-b9fdaa8dc890",
   "metadata": {},
   "outputs": [
    {
     "name": "stdin",
     "output_type": "stream",
     "text": [
      " 4\n"
     ]
    }
   ],
   "source": [
    "x = input()"
   ]
  },
  {
   "cell_type": "code",
   "execution_count": 87,
   "id": "20ec92eb-9b18-4e66-82eb-3a0b5a62c983",
   "metadata": {},
   "outputs": [
    {
     "name": "stdin",
     "output_type": "stream",
     "text": [
      "enter x: 1\n"
     ]
    }
   ],
   "source": [
    "x = input(\"enter x:\")"
   ]
  },
  {
   "cell_type": "code",
   "execution_count": 89,
   "id": "b64dd254-6016-4d75-8f05-c9772c0a83d4",
   "metadata": {},
   "outputs": [
    {
     "data": {
      "text/plain": [
       "str"
      ]
     },
     "execution_count": 89,
     "metadata": {},
     "output_type": "execute_result"
    }
   ],
   "source": [
    "type(x)"
   ]
  },
  {
   "cell_type": "code",
   "execution_count": 91,
   "id": "6bdb22f3-a598-4166-9875-886f324a7c4b",
   "metadata": {},
   "outputs": [
    {
     "name": "stdin",
     "output_type": "stream",
     "text": [
      "enter y: 9\n"
     ]
    }
   ],
   "source": [
    "y = input(\"enter y:\")"
   ]
  },
  {
   "cell_type": "code",
   "execution_count": 93,
   "id": "c3956336-0122-4aff-9705-c996e2813ce7",
   "metadata": {},
   "outputs": [
    {
     "name": "stdin",
     "output_type": "stream",
     "text": [
      "enter z: 5\n"
     ]
    }
   ],
   "source": [
    "z = input(\"enter z:\")"
   ]
  },
  {
   "cell_type": "code",
   "execution_count": 97,
   "id": "0eb8ce07-3634-4b70-89bb-7cfb0729e593",
   "metadata": {},
   "outputs": [],
   "source": [
    "inputList = []"
   ]
  },
  {
   "cell_type": "code",
   "execution_count": 99,
   "id": "2fa7f727-e9fb-486a-8c67-81b77ce4ef54",
   "metadata": {},
   "outputs": [
    {
     "data": {
      "text/plain": [
       "list"
      ]
     },
     "execution_count": 99,
     "metadata": {},
     "output_type": "execute_result"
    }
   ],
   "source": [
    "type(inputList)"
   ]
  },
  {
   "cell_type": "code",
   "execution_count": 101,
   "id": "f5af4715-8674-4fb9-bc71-2acc9ddddb41",
   "metadata": {},
   "outputs": [
    {
     "data": {
      "text/plain": [
       "[]"
      ]
     },
     "execution_count": 101,
     "metadata": {},
     "output_type": "execute_result"
    }
   ],
   "source": [
    "inputList"
   ]
  },
  {
   "cell_type": "code",
   "execution_count": 103,
   "id": "4e0cc01e-cf62-440e-9ea4-6e2d9c6480f4",
   "metadata": {},
   "outputs": [],
   "source": [
    "inputList.append(x)\n",
    "inputList.append(y)\n",
    "inputList.append(z)"
   ]
  },
  {
   "cell_type": "code",
   "execution_count": 105,
   "id": "db52ebff-be34-4f9c-b7be-cb47f3d49a7d",
   "metadata": {},
   "outputs": [
    {
     "data": {
      "text/plain": [
       "['1', '9', '5']"
      ]
     },
     "execution_count": 105,
     "metadata": {},
     "output_type": "execute_result"
    }
   ],
   "source": [
    "inputList"
   ]
  },
  {
   "cell_type": "code",
   "execution_count": 107,
   "id": "e2b8f68b-8271-49af-bbc4-7d05cb928ab9",
   "metadata": {},
   "outputs": [
    {
     "data": {
      "text/plain": [
       "'11'"
      ]
     },
     "execution_count": 107,
     "metadata": {},
     "output_type": "execute_result"
    }
   ],
   "source": [
    "inputList[0] * 2"
   ]
  },
  {
   "cell_type": "code",
   "execution_count": 111,
   "id": "09021f2b-6a4b-45fe-b229-7819645e59b0",
   "metadata": {},
   "outputs": [
    {
     "data": {
      "text/plain": [
       "str"
      ]
     },
     "execution_count": 111,
     "metadata": {},
     "output_type": "execute_result"
    }
   ],
   "source": [
    "type(inputList[1])"
   ]
  },
  {
   "cell_type": "code",
   "execution_count": 117,
   "id": "252df303-6a3a-4ff0-8249-b24ed76fe91f",
   "metadata": {},
   "outputs": [],
   "source": [
    "myInteger = 50"
   ]
  },
  {
   "cell_type": "code",
   "execution_count": 119,
   "id": "c114d7d4-e776-42e7-ac28-a306f5cf3e53",
   "metadata": {},
   "outputs": [
    {
     "data": {
      "text/plain": [
       "'50'"
      ]
     },
     "execution_count": 119,
     "metadata": {},
     "output_type": "execute_result"
    }
   ],
   "source": [
    "str(myInteger)"
   ]
  },
  {
   "cell_type": "code",
   "execution_count": 121,
   "id": "db7c5456-cd69-49fe-baaf-3d4869d2bf6f",
   "metadata": {},
   "outputs": [],
   "source": [
    "myString = '36'"
   ]
  },
  {
   "cell_type": "code",
   "execution_count": 123,
   "id": "6f4ca2fb-8710-48de-827f-119eb5c11048",
   "metadata": {},
   "outputs": [
    {
     "data": {
      "text/plain": [
       "36"
      ]
     },
     "execution_count": 123,
     "metadata": {},
     "output_type": "execute_result"
    }
   ],
   "source": [
    "int(myString)"
   ]
  },
  {
   "cell_type": "code",
   "execution_count": 125,
   "id": "9b952548-99c2-4e63-86ac-4de5964c0af3",
   "metadata": {},
   "outputs": [
    {
     "data": {
      "text/plain": [
       "36.0"
      ]
     },
     "execution_count": 125,
     "metadata": {},
     "output_type": "execute_result"
    }
   ],
   "source": [
    "float(myString)"
   ]
  },
  {
   "cell_type": "code",
   "execution_count": 127,
   "id": "dd42ccab-f1f3-4ab2-b6d2-94d5ba24dec3",
   "metadata": {},
   "outputs": [
    {
     "data": {
      "text/plain": [
       "2"
      ]
     },
     "execution_count": 127,
     "metadata": {},
     "output_type": "execute_result"
    }
   ],
   "source": [
    "int(inputList[0]) * 2"
   ]
  },
  {
   "cell_type": "code",
   "execution_count": 129,
   "id": "35833586-7c78-47b3-9545-92814d9808c8",
   "metadata": {},
   "outputs": [
    {
     "data": {
      "text/plain": [
       "['1', '9', '5']"
      ]
     },
     "execution_count": 129,
     "metadata": {},
     "output_type": "execute_result"
    }
   ],
   "source": [
    "inputList"
   ]
  },
  {
   "cell_type": "code",
   "execution_count": 133,
   "id": "e4b2ce2e-c407-4480-84de-a365e1924a95",
   "metadata": {},
   "outputs": [
    {
     "data": {
      "text/plain": [
       "\"['1', '9', '5']\""
      ]
     },
     "execution_count": 133,
     "metadata": {},
     "output_type": "execute_result"
    }
   ],
   "source": [
    "str(inputList)"
   ]
  },
  {
   "cell_type": "code",
   "execution_count": 135,
   "id": "3f89b503-968a-407e-9317-d155ac675217",
   "metadata": {},
   "outputs": [],
   "source": [
    "nameList = [\"python\", \"java\", \"c\"]"
   ]
  },
  {
   "cell_type": "code",
   "execution_count": 139,
   "id": "986f4312-e8e4-4330-abed-e29a99a27134",
   "metadata": {},
   "outputs": [
    {
     "data": {
      "text/plain": [
       "list"
      ]
     },
     "execution_count": 139,
     "metadata": {},
     "output_type": "execute_result"
    }
   ],
   "source": [
    "type(nameList)"
   ]
  },
  {
   "cell_type": "code",
   "execution_count": 141,
   "id": "fcb03398-373b-4529-a1f3-7350397c2af3",
   "metadata": {},
   "outputs": [],
   "source": [
    "floatList = [1.4, 5.4, 8.3, 7.2, 5.86]"
   ]
  },
  {
   "cell_type": "code",
   "execution_count": 143,
   "id": "9dd932f6-cb28-4d20-b1eb-92dd4d859b33",
   "metadata": {},
   "outputs": [
    {
     "data": {
      "text/plain": [
       "list"
      ]
     },
     "execution_count": 143,
     "metadata": {},
     "output_type": "execute_result"
    }
   ],
   "source": [
    "type(floatList)"
   ]
  },
  {
   "cell_type": "code",
   "execution_count": 145,
   "id": "96013db4-dad0-4a11-a876-1cf003a5cb34",
   "metadata": {},
   "outputs": [],
   "source": [
    "mixedList = [\"python\", 3.1, 2025, 'a']"
   ]
  },
  {
   "cell_type": "code",
   "execution_count": 147,
   "id": "a0ae5221-1e6a-402a-8a58-2c5fbc20d910",
   "metadata": {},
   "outputs": [
    {
     "data": {
      "text/plain": [
       "list"
      ]
     },
     "execution_count": 147,
     "metadata": {},
     "output_type": "execute_result"
    }
   ],
   "source": [
    "type(mixedList)"
   ]
  },
  {
   "cell_type": "code",
   "execution_count": 149,
   "id": "55ce0053-491a-4f88-bc40-d4ff912bc4df",
   "metadata": {},
   "outputs": [],
   "source": [
    "list1 = [10, 20, 30]"
   ]
  },
  {
   "cell_type": "code",
   "execution_count": 151,
   "id": "2ea2caf6-5535-4e64-8eae-57406a316f1b",
   "metadata": {},
   "outputs": [],
   "source": [
    "list2 = [40, 50, 60]"
   ]
  },
  {
   "cell_type": "code",
   "execution_count": 153,
   "id": "f8b082cb-82e5-4186-8486-17d93252f4eb",
   "metadata": {},
   "outputs": [
    {
     "data": {
      "text/plain": [
       "[10, 20, 30, 40, 50, 60]"
      ]
     },
     "execution_count": 153,
     "metadata": {},
     "output_type": "execute_result"
    }
   ],
   "source": [
    "list1 + list2"
   ]
  },
  {
   "cell_type": "code",
   "execution_count": 155,
   "id": "0f51be42-8566-45b5-95aa-472d0deea152",
   "metadata": {},
   "outputs": [
    {
     "data": {
      "text/plain": [
       "[10, 20, 30, 10, 20, 30]"
      ]
     },
     "execution_count": 155,
     "metadata": {},
     "output_type": "execute_result"
    }
   ],
   "source": [
    "list1 * 2"
   ]
  },
  {
   "cell_type": "code",
   "execution_count": 157,
   "id": "8533614f-1e13-4d8e-b08b-b6e2facd21b6",
   "metadata": {},
   "outputs": [
    {
     "data": {
      "text/plain": [
       "['python', 3.1, 2025, 'a']"
      ]
     },
     "execution_count": 157,
     "metadata": {},
     "output_type": "execute_result"
    }
   ],
   "source": [
    "mixedList"
   ]
  },
  {
   "cell_type": "code",
   "execution_count": 159,
   "id": "1aa613f1-e550-40cc-91a9-516cc0faee6f",
   "metadata": {},
   "outputs": [
    {
     "data": {
      "text/plain": [
       "str"
      ]
     },
     "execution_count": 159,
     "metadata": {},
     "output_type": "execute_result"
    }
   ],
   "source": [
    "type(mixedList[0])"
   ]
  },
  {
   "cell_type": "code",
   "execution_count": 161,
   "id": "dbcf980d-38b0-4076-bea2-43dbf90bc4ff",
   "metadata": {},
   "outputs": [
    {
     "data": {
      "text/plain": [
       "float"
      ]
     },
     "execution_count": 161,
     "metadata": {},
     "output_type": "execute_result"
    }
   ],
   "source": [
    "type(mixedList[1])"
   ]
  },
  {
   "cell_type": "code",
   "execution_count": 163,
   "id": "59ce2119-5745-4c45-ba5f-d2754167ff78",
   "metadata": {},
   "outputs": [
    {
     "data": {
      "text/plain": [
       "int"
      ]
     },
     "execution_count": 163,
     "metadata": {},
     "output_type": "execute_result"
    }
   ],
   "source": [
    "type(mixedList[2])"
   ]
  },
  {
   "cell_type": "code",
   "execution_count": 165,
   "id": "85d49525-85d8-49c4-b41e-511ac250fe93",
   "metadata": {},
   "outputs": [],
   "source": [
    "# nested list"
   ]
  },
  {
   "cell_type": "code",
   "execution_count": 167,
   "id": "0506cac6-e48b-4139-aa7a-3e66e49f3927",
   "metadata": {},
   "outputs": [],
   "source": [
    "myNestedList = [10, 20, 3.14, 'a', [2, 5, 7]]"
   ]
  },
  {
   "cell_type": "code",
   "execution_count": 169,
   "id": "891e7f5f-8994-4514-9d01-1f67e15a74ae",
   "metadata": {},
   "outputs": [
    {
     "data": {
      "text/plain": [
       "[10, 20, 3.14, 'a', [2, 5, 7]]"
      ]
     },
     "execution_count": 169,
     "metadata": {},
     "output_type": "execute_result"
    }
   ],
   "source": [
    "myNestedList"
   ]
  },
  {
   "cell_type": "code",
   "execution_count": 171,
   "id": "83bff2a8-da3e-44db-b1bd-33fd291246f8",
   "metadata": {},
   "outputs": [
    {
     "data": {
      "text/plain": [
       "10"
      ]
     },
     "execution_count": 171,
     "metadata": {},
     "output_type": "execute_result"
    }
   ],
   "source": [
    "myNestedList[0]"
   ]
  },
  {
   "cell_type": "code",
   "execution_count": 173,
   "id": "9086fc94-4a89-46a0-963e-a1def4b3622d",
   "metadata": {},
   "outputs": [
    {
     "data": {
      "text/plain": [
       "'a'"
      ]
     },
     "execution_count": 173,
     "metadata": {},
     "output_type": "execute_result"
    }
   ],
   "source": [
    "myNestedList[3]"
   ]
  },
  {
   "cell_type": "code",
   "execution_count": 175,
   "id": "2d2364da-f327-47ab-8825-7943f4b80f8d",
   "metadata": {},
   "outputs": [
    {
     "data": {
      "text/plain": [
       "[2, 5, 7]"
      ]
     },
     "execution_count": 175,
     "metadata": {},
     "output_type": "execute_result"
    }
   ],
   "source": [
    "myNestedList[4]"
   ]
  },
  {
   "cell_type": "code",
   "execution_count": 177,
   "id": "4c10c295-7db5-4d1c-af28-9012d38692f7",
   "metadata": {},
   "outputs": [],
   "source": [
    "smallList = myNestedList[4]"
   ]
  },
  {
   "cell_type": "code",
   "execution_count": 179,
   "id": "44ca2421-8aa3-4000-be6a-9de215b5e925",
   "metadata": {},
   "outputs": [
    {
     "data": {
      "text/plain": [
       "[2, 5, 7]"
      ]
     },
     "execution_count": 179,
     "metadata": {},
     "output_type": "execute_result"
    }
   ],
   "source": [
    "smallList"
   ]
  },
  {
   "cell_type": "code",
   "execution_count": 185,
   "id": "4e845b88-b4c3-4f37-a543-44816700d3ef",
   "metadata": {},
   "outputs": [
    {
     "data": {
      "text/plain": [
       "list"
      ]
     },
     "execution_count": 185,
     "metadata": {},
     "output_type": "execute_result"
    }
   ],
   "source": [
    "type(smallList)"
   ]
  },
  {
   "cell_type": "code",
   "execution_count": 187,
   "id": "d6b391b6-101a-4e50-8261-41ec6ea70271",
   "metadata": {},
   "outputs": [
    {
     "data": {
      "text/plain": [
       "5"
      ]
     },
     "execution_count": 187,
     "metadata": {},
     "output_type": "execute_result"
    }
   ],
   "source": [
    "myNestedList[4][1]"
   ]
  },
  {
   "cell_type": "code",
   "execution_count": 189,
   "id": "51a4d9fa-0e7a-43c6-a2a9-0e08ca531695",
   "metadata": {},
   "outputs": [
    {
     "data": {
      "text/plain": [
       "5"
      ]
     },
     "execution_count": 189,
     "metadata": {},
     "output_type": "execute_result"
    }
   ],
   "source": [
    "len(myNestedList)"
   ]
  },
  {
   "cell_type": "code",
   "execution_count": 191,
   "id": "c8986efd-f99a-4b87-b899-e29617dc4cb2",
   "metadata": {},
   "outputs": [
    {
     "data": {
      "text/plain": [
       "[10, 20, 3.14, 'a', [2, 5, 7]]"
      ]
     },
     "execution_count": 191,
     "metadata": {},
     "output_type": "execute_result"
    }
   ],
   "source": [
    "myNestedList"
   ]
  },
  {
   "cell_type": "code",
   "execution_count": 197,
   "id": "4c47ec0e-cb90-4c1d-b4c2-a61bc01fe4d8",
   "metadata": {},
   "outputs": [],
   "source": [
    "firstList = [10, 20, 30, 40, 50, 60, 70, 80]"
   ]
  },
  {
   "cell_type": "code",
   "execution_count": 199,
   "id": "8eb8c90b-0d91-4af1-b886-96f38c63e134",
   "metadata": {},
   "outputs": [
    {
     "data": {
      "text/plain": [
       "[10, 30, 50, 70]"
      ]
     },
     "execution_count": 199,
     "metadata": {},
     "output_type": "execute_result"
    }
   ],
   "source": [
    "firstList[::2]"
   ]
  },
  {
   "cell_type": "code",
   "execution_count": 201,
   "id": "8af035f2-7878-4a7a-b211-2a7b70990acc",
   "metadata": {},
   "outputs": [
    {
     "data": {
      "text/plain": [
       "[10, 20, 30, 40, 50, 60, 70, 80]"
      ]
     },
     "execution_count": 201,
     "metadata": {},
     "output_type": "execute_result"
    }
   ],
   "source": [
    "firstList[::]"
   ]
  },
  {
   "cell_type": "code",
   "execution_count": null,
   "id": "526284f0-422d-4d5c-964e-c8e2d616899b",
   "metadata": {},
   "outputs": [],
   "source": []
  }
 ],
 "metadata": {
  "kernelspec": {
   "display_name": "Python 3 (ipykernel)",
   "language": "python",
   "name": "python3"
  },
  "language_info": {
   "codemirror_mode": {
    "name": "ipython",
    "version": 3
   },
   "file_extension": ".py",
   "mimetype": "text/x-python",
   "name": "python",
   "nbconvert_exporter": "python",
   "pygments_lexer": "ipython3",
   "version": "3.12.4"
  }
 },
 "nbformat": 4,
 "nbformat_minor": 5
}
