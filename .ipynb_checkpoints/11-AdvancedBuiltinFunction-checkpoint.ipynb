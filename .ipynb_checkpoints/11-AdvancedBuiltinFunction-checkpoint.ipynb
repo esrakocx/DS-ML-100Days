{
 "cells": [
  {
   "cell_type": "code",
   "execution_count": 2,
   "id": "73e3e053-19bc-4fbf-8c82-33c38e54f384",
   "metadata": {},
   "outputs": [],
   "source": [
    "my_list = [10, 20, 30, 50, 60, 70]"
   ]
  },
  {
   "cell_type": "code",
   "execution_count": 4,
   "id": "b4638e67-3cf9-4ec2-88bb-78306dfd6a23",
   "metadata": {},
   "outputs": [
    {
     "name": "stdout",
     "output_type": "stream",
     "text": [
      "5.0\n",
      "10.0\n",
      "15.0\n",
      "25.0\n",
      "30.0\n",
      "35.0\n"
     ]
    }
   ],
   "source": [
    "for num in my_list:\n",
    "    print(num / 2)"
   ]
  },
  {
   "cell_type": "code",
   "execution_count": 6,
   "id": "5a930521-091f-43f3-86e8-f0633ca21041",
   "metadata": {},
   "outputs": [
    {
     "data": {
      "text/plain": [
       "range(0, 50)"
      ]
     },
     "execution_count": 6,
     "metadata": {},
     "output_type": "execute_result"
    }
   ],
   "source": [
    "range(50)"
   ]
  },
  {
   "cell_type": "code",
   "execution_count": 10,
   "id": "9519bb73-330e-4c86-96fa-c58248879783",
   "metadata": {},
   "outputs": [
    {
     "data": {
      "text/plain": [
       "[0, 1, 2, 3, 4, 5, 6, 7, 8, 9]"
      ]
     },
     "execution_count": 10,
     "metadata": {},
     "output_type": "execute_result"
    }
   ],
   "source": [
    "list(range(10))"
   ]
  },
  {
   "cell_type": "code",
   "execution_count": 12,
   "id": "a995da5e-6c26-438f-b7dc-76ea75771271",
   "metadata": {},
   "outputs": [
    {
     "name": "stdout",
     "output_type": "stream",
     "text": [
      "0\n",
      "2\n",
      "4\n",
      "6\n",
      "8\n",
      "10\n",
      "12\n",
      "14\n",
      "16\n",
      "18\n",
      "20\n",
      "22\n",
      "24\n",
      "26\n",
      "28\n",
      "30\n",
      "32\n",
      "34\n",
      "36\n",
      "38\n"
     ]
    }
   ],
   "source": [
    "for num in list(range(20)):\n",
    "    print(num * 2)"
   ]
  },
  {
   "cell_type": "code",
   "execution_count": 14,
   "id": "e5b69835-3f85-4865-a45f-f6f11bc1d30b",
   "metadata": {},
   "outputs": [
    {
     "data": {
      "text/plain": [
       "[5, 6, 7, 8, 9, 10, 11, 12, 13, 14, 15, 16, 17, 18, 19, 20, 21, 22, 23, 24]"
      ]
     },
     "execution_count": 14,
     "metadata": {},
     "output_type": "execute_result"
    }
   ],
   "source": [
    "list(range(5, 25))"
   ]
  },
  {
   "cell_type": "code",
   "execution_count": 16,
   "id": "592bf893-863c-40ad-952f-14481661043d",
   "metadata": {},
   "outputs": [
    {
     "data": {
      "text/plain": [
       "[5, 7, 9, 11, 13, 15, 17, 19, 21, 23]"
      ]
     },
     "execution_count": 16,
     "metadata": {},
     "output_type": "execute_result"
    }
   ],
   "source": [
    "list(range(5, 25, 2))"
   ]
  },
  {
   "cell_type": "code",
   "execution_count": 18,
   "id": "bdb43d10-f867-45cc-851f-316321135527",
   "metadata": {},
   "outputs": [],
   "source": [
    "my_list = [20, 30, 40, 50, 60]"
   ]
  },
  {
   "cell_type": "code",
   "execution_count": 20,
   "id": "c82bce05-7dd9-430f-80c0-f3674f9e55cf",
   "metadata": {},
   "outputs": [
    {
     "name": "stdout",
     "output_type": "stream",
     "text": [
      "0\n",
      "1\n",
      "2\n",
      "3\n",
      "4\n"
     ]
    }
   ],
   "source": [
    "for ix in range(len(my_list)):\n",
    "    print(ix)"
   ]
  },
  {
   "cell_type": "code",
   "execution_count": 22,
   "id": "810c024d-d6f3-43aa-8193-89318883d1bd",
   "metadata": {},
   "outputs": [
    {
     "name": "stdout",
     "output_type": "stream",
     "text": [
      "20\n",
      "30\n",
      "40\n",
      "50\n",
      "60\n"
     ]
    }
   ],
   "source": [
    "for ix in range(len(my_list)):\n",
    "    print(my_list[ix])"
   ]
  },
  {
   "cell_type": "code",
   "execution_count": 24,
   "id": "8047675f-cef1-4cec-b871-5eeccf7f6f24",
   "metadata": {},
   "outputs": [],
   "source": [
    "#enumerate"
   ]
  },
  {
   "cell_type": "code",
   "execution_count": 26,
   "id": "4c88d118-3bf9-497a-aec8-5bed2ac15a6f",
   "metadata": {},
   "outputs": [
    {
     "name": "stdout",
     "output_type": "stream",
     "text": [
      "(0, 20)\n",
      "(1, 30)\n",
      "(2, 40)\n",
      "(3, 50)\n",
      "(4, 60)\n"
     ]
    }
   ],
   "source": [
    "for element in enumerate(my_list):\n",
    "    print(element)"
   ]
  },
  {
   "cell_type": "code",
   "execution_count": 28,
   "id": "de12be4e-2982-4656-a244-79074c0a5007",
   "metadata": {},
   "outputs": [
    {
     "name": "stdout",
     "output_type": "stream",
     "text": [
      "20\n",
      "30\n",
      "40\n",
      "50\n",
      "60\n"
     ]
    }
   ],
   "source": [
    "for (ix, value) in enumerate(my_list):\n",
    "    print(value)"
   ]
  },
  {
   "cell_type": "code",
   "execution_count": 30,
   "id": "d8080c21-2f94-492e-9168-8ec765c90dc1",
   "metadata": {},
   "outputs": [],
   "source": [
    "#random"
   ]
  },
  {
   "cell_type": "code",
   "execution_count": 32,
   "id": "02b9d567-1767-44cf-9adb-bf87f3c709b1",
   "metadata": {},
   "outputs": [],
   "source": [
    "from random import randint"
   ]
  },
  {
   "cell_type": "code",
   "execution_count": 34,
   "id": "62187811-deb4-4bc0-8f3c-7da418b5d974",
   "metadata": {},
   "outputs": [
    {
     "data": {
      "text/plain": [
       "43"
      ]
     },
     "execution_count": 34,
     "metadata": {},
     "output_type": "execute_result"
    }
   ],
   "source": [
    "randint(0, 100)"
   ]
  },
  {
   "cell_type": "code",
   "execution_count": 36,
   "id": "62341a01-e906-42a6-ab61-6ae4bb0e6305",
   "metadata": {},
   "outputs": [
    {
     "data": {
      "text/plain": [
       "100"
      ]
     },
     "execution_count": 36,
     "metadata": {},
     "output_type": "execute_result"
    }
   ],
   "source": [
    "randint(0, 100)"
   ]
  },
  {
   "cell_type": "code",
   "execution_count": 38,
   "id": "3c055216-6337-4e77-a0ce-cef61f3f0404",
   "metadata": {},
   "outputs": [
    {
     "data": {
      "text/plain": [
       "90"
      ]
     },
     "execution_count": 38,
     "metadata": {},
     "output_type": "execute_result"
    }
   ],
   "source": [
    "randint(0, 100)"
   ]
  },
  {
   "cell_type": "code",
   "execution_count": 40,
   "id": "a37bfb97-0d79-46cd-a5b1-b067c12621c2",
   "metadata": {},
   "outputs": [],
   "source": [
    "from random import shuffle"
   ]
  },
  {
   "cell_type": "code",
   "execution_count": 42,
   "id": "fe8ec963-06c4-4885-a8de-c71138cc8991",
   "metadata": {},
   "outputs": [
    {
     "data": {
      "text/plain": [
       "[20, 30, 40, 50, 60]"
      ]
     },
     "execution_count": 42,
     "metadata": {},
     "output_type": "execute_result"
    }
   ],
   "source": [
    "my_list"
   ]
  },
  {
   "cell_type": "code",
   "execution_count": 44,
   "id": "8821c4d7-4fd7-4a46-b2af-e9d837ae1132",
   "metadata": {},
   "outputs": [],
   "source": [
    "shuffle(my_list)"
   ]
  },
  {
   "cell_type": "code",
   "execution_count": 46,
   "id": "42bd1861-0a22-4278-84f4-c133aa220dce",
   "metadata": {},
   "outputs": [
    {
     "data": {
      "text/plain": [
       "[40, 60, 20, 30, 50]"
      ]
     },
     "execution_count": 46,
     "metadata": {},
     "output_type": "execute_result"
    }
   ],
   "source": [
    "my_list"
   ]
  },
  {
   "cell_type": "code",
   "execution_count": 48,
   "id": "6acd74e8-eeba-4a6d-9766-6cdb84a7d1d2",
   "metadata": {},
   "outputs": [],
   "source": [
    "my_list = [10, 20, 30, 40, 50, 60, 70]"
   ]
  },
  {
   "cell_type": "code",
   "execution_count": 50,
   "id": "b4c13397-1560-43c7-a94a-665b6b5c7931",
   "metadata": {},
   "outputs": [
    {
     "data": {
      "text/plain": [
       "4"
      ]
     },
     "execution_count": 50,
     "metadata": {},
     "output_type": "execute_result"
    }
   ],
   "source": [
    "randint(0, len(my_list))"
   ]
  },
  {
   "cell_type": "code",
   "execution_count": 58,
   "id": "4989b2e9-d98e-48bb-96c6-8936cabbe92d",
   "metadata": {},
   "outputs": [
    {
     "data": {
      "text/plain": [
       "60"
      ]
     },
     "execution_count": 58,
     "metadata": {},
     "output_type": "execute_result"
    }
   ],
   "source": [
    "my_list[randint(0, len(my_list))]"
   ]
  },
  {
   "cell_type": "code",
   "execution_count": 60,
   "id": "c67b535f-d3c7-4b13-90b2-166ebbc69957",
   "metadata": {},
   "outputs": [
    {
     "data": {
      "text/plain": [
       "70"
      ]
     },
     "execution_count": 60,
     "metadata": {},
     "output_type": "execute_result"
    }
   ],
   "source": [
    "my_list[randint(0, len(my_list))]"
   ]
  },
  {
   "cell_type": "code",
   "execution_count": 62,
   "id": "8716cbc6-98bb-4583-86c3-5e788170aa6c",
   "metadata": {},
   "outputs": [
    {
     "data": {
      "text/plain": [
       "20"
      ]
     },
     "execution_count": 62,
     "metadata": {},
     "output_type": "execute_result"
    }
   ],
   "source": [
    "my_list[randint(0, len(my_list))]"
   ]
  },
  {
   "cell_type": "code",
   "execution_count": 64,
   "id": "af7f357e-1759-4f7d-aeb1-a029d676ace8",
   "metadata": {},
   "outputs": [
    {
     "data": {
      "text/plain": [
       "20"
      ]
     },
     "execution_count": 64,
     "metadata": {},
     "output_type": "execute_result"
    }
   ],
   "source": [
    "my_list[randint(0, len(my_list))]"
   ]
  },
  {
   "cell_type": "code",
   "execution_count": 66,
   "id": "dce930f1-9059-4921-a7fa-a7d22afc058a",
   "metadata": {},
   "outputs": [
    {
     "data": {
      "text/plain": [
       "10"
      ]
     },
     "execution_count": 66,
     "metadata": {},
     "output_type": "execute_result"
    }
   ],
   "source": [
    "my_list[randint(0, len(my_list))]"
   ]
  },
  {
   "cell_type": "code",
   "execution_count": 68,
   "id": "cb21dc18-3f41-49ff-a764-7cba66a7d30c",
   "metadata": {},
   "outputs": [
    {
     "data": {
      "text/plain": [
       "20"
      ]
     },
     "execution_count": 68,
     "metadata": {},
     "output_type": "execute_result"
    }
   ],
   "source": [
    "my_list[randint(0, len(my_list)-1)]"
   ]
  },
  {
   "cell_type": "code",
   "execution_count": 70,
   "id": "11626a88-06d4-4039-9c45-fdb694906677",
   "metadata": {},
   "outputs": [],
   "source": [
    "#zip"
   ]
  },
  {
   "cell_type": "code",
   "execution_count": 72,
   "id": "317184cc-41df-45f4-8b20-49ed9b73490c",
   "metadata": {},
   "outputs": [],
   "source": [
    "food_list = [\"apple\", \"banana\", \"melon\"]"
   ]
  },
  {
   "cell_type": "code",
   "execution_count": 74,
   "id": "89879340-b2b6-458c-85af-700165ee5709",
   "metadata": {},
   "outputs": [],
   "source": [
    "calories_list = [100, 150, 200]"
   ]
  },
  {
   "cell_type": "code",
   "execution_count": 76,
   "id": "e2c01cde-b052-43a6-95b9-43152c46a282",
   "metadata": {},
   "outputs": [],
   "source": [
    "day_list = [\"monday\", \"tuesday\", \"wednesday\"]"
   ]
  },
  {
   "cell_type": "code",
   "execution_count": 78,
   "id": "0bd3be89-5d1f-4302-876f-54572bd252da",
   "metadata": {},
   "outputs": [],
   "source": [
    "zipped_list = zip(food_list, calories_list, day_list)"
   ]
  },
  {
   "cell_type": "code",
   "execution_count": 80,
   "id": "c7d4135a-71d6-40d2-9a5e-0f634637281e",
   "metadata": {},
   "outputs": [
    {
     "data": {
      "text/plain": [
       "<zip at 0x1691ab940>"
      ]
     },
     "execution_count": 80,
     "metadata": {},
     "output_type": "execute_result"
    }
   ],
   "source": [
    "zipped_list"
   ]
  },
  {
   "cell_type": "code",
   "execution_count": 84,
   "id": "fe05874f-65d2-402e-8858-7a47a3b91ec4",
   "metadata": {},
   "outputs": [
    {
     "data": {
      "text/plain": [
       "zip"
      ]
     },
     "execution_count": 84,
     "metadata": {},
     "output_type": "execute_result"
    }
   ],
   "source": [
    "type(zipped_list)"
   ]
  },
  {
   "cell_type": "code",
   "execution_count": 86,
   "id": "5afe76f4-d103-483b-aa3f-b33c8246e537",
   "metadata": {},
   "outputs": [],
   "source": [
    "zipped_list = list(zip(food_list, calories_list, day_list))"
   ]
  },
  {
   "cell_type": "code",
   "execution_count": 88,
   "id": "39931607-c40b-4c5d-ac1f-09cebf61de67",
   "metadata": {},
   "outputs": [
    {
     "data": {
      "text/plain": [
       "list"
      ]
     },
     "execution_count": 88,
     "metadata": {},
     "output_type": "execute_result"
    }
   ],
   "source": [
    "type(zipped_list)"
   ]
  },
  {
   "cell_type": "code",
   "execution_count": 90,
   "id": "9501b1fb-b4e7-407d-a318-ec27712acfe1",
   "metadata": {},
   "outputs": [
    {
     "data": {
      "text/plain": [
       "[('apple', 100, 'monday'),\n",
       " ('banana', 150, 'tuesday'),\n",
       " ('melon', 200, 'wednesday')]"
      ]
     },
     "execution_count": 90,
     "metadata": {},
     "output_type": "execute_result"
    }
   ],
   "source": [
    "zipped_list"
   ]
  },
  {
   "cell_type": "code",
   "execution_count": 94,
   "id": "bd15b9c7-959e-4504-afd4-27170dcf72a8",
   "metadata": {},
   "outputs": [],
   "source": [
    "new_list = []\n",
    "my_string = \"metallica\"\n",
    "\n",
    "for element in my_string:\n",
    "    new_list.append(element)"
   ]
  },
  {
   "cell_type": "code",
   "execution_count": 96,
   "id": "cf26dece-a6f5-4c37-8b53-b47f62845f8b",
   "metadata": {},
   "outputs": [
    {
     "data": {
      "text/plain": [
       "['m', 'e', 't', 'a', 'l', 'l', 'i', 'c', 'a']"
      ]
     },
     "execution_count": 96,
     "metadata": {},
     "output_type": "execute_result"
    }
   ],
   "source": [
    "new_list"
   ]
  },
  {
   "cell_type": "code",
   "execution_count": 98,
   "id": "16b8198a-fd7b-46a8-927d-033269d3490d",
   "metadata": {},
   "outputs": [],
   "source": [
    "#list comprehension"
   ]
  },
  {
   "cell_type": "code",
   "execution_count": 100,
   "id": "a5ed4f86-5914-4545-a443-1aa9bf09493b",
   "metadata": {},
   "outputs": [],
   "source": [
    "new_list = [element for element in my_string]"
   ]
  },
  {
   "cell_type": "code",
   "execution_count": 102,
   "id": "bb8e3e01-7f2a-4a3f-a8cb-b50af0a87738",
   "metadata": {},
   "outputs": [
    {
     "data": {
      "text/plain": [
       "['m', 'e', 't', 'a', 'l', 'l', 'i', 'c', 'a']"
      ]
     },
     "execution_count": 102,
     "metadata": {},
     "output_type": "execute_result"
    }
   ],
   "source": [
    "new_list"
   ]
  },
  {
   "cell_type": "code",
   "execution_count": null,
   "id": "f50a1246-2b64-4ffe-91e7-98dbdba503af",
   "metadata": {},
   "outputs": [],
   "source": [
    " "
   ]
  }
 ],
 "metadata": {
  "kernelspec": {
   "display_name": "Python 3 (ipykernel)",
   "language": "python",
   "name": "python3"
  },
  "language_info": {
   "codemirror_mode": {
    "name": "ipython",
    "version": 3
   },
   "file_extension": ".py",
   "mimetype": "text/x-python",
   "name": "python",
   "nbconvert_exporter": "python",
   "pygments_lexer": "ipython3",
   "version": "3.12.4"
  }
 },
 "nbformat": 4,
 "nbformat_minor": 5
}
