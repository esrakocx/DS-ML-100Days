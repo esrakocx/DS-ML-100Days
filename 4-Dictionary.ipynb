{
 "cells": [
  {
   "cell_type": "code",
   "execution_count": 3,
   "id": "e8bcba23-6263-40f8-8ee7-149178cc5722",
   "metadata": {},
   "outputs": [],
   "source": [
    "# key- value pairing"
   ]
  },
  {
   "cell_type": "code",
   "execution_count": 5,
   "id": "2f7cc65a-7984-4456-a0fc-662880903120",
   "metadata": {},
   "outputs": [],
   "source": [
    "fruit_list = [\"banana\", \"apple\"]"
   ]
  },
  {
   "cell_type": "code",
   "execution_count": 7,
   "id": "b7cf1949-0793-419e-9197-a306faf8bc7d",
   "metadata": {},
   "outputs": [],
   "source": [
    "calorie_list = [100, 150]"
   ]
  },
  {
   "cell_type": "code",
   "execution_count": 9,
   "id": "f89b722f-1b35-4e26-8dd6-b18eee2e533e",
   "metadata": {},
   "outputs": [
    {
     "data": {
      "text/plain": [
       "'banana'"
      ]
     },
     "execution_count": 9,
     "metadata": {},
     "output_type": "execute_result"
    }
   ],
   "source": [
    "fruit_list[0]"
   ]
  },
  {
   "cell_type": "code",
   "execution_count": 11,
   "id": "2389d0db-aa15-4554-9f53-e24d23ba06d1",
   "metadata": {},
   "outputs": [
    {
     "data": {
      "text/plain": [
       "100"
      ]
     },
     "execution_count": 11,
     "metadata": {},
     "output_type": "execute_result"
    }
   ],
   "source": [
    "calorie_list[0]"
   ]
  },
  {
   "cell_type": "code",
   "execution_count": 13,
   "id": "62748775-c17e-4a90-9cca-b94d64ea0b3b",
   "metadata": {},
   "outputs": [],
   "source": [
    "fitness_dict = {\"banana\": 100, \"apple\": 150}"
   ]
  },
  {
   "cell_type": "code",
   "execution_count": 15,
   "id": "c2f1034c-23a3-4885-833d-cd8edf14f7b2",
   "metadata": {},
   "outputs": [
    {
     "data": {
      "text/plain": [
       "dict"
      ]
     },
     "execution_count": 15,
     "metadata": {},
     "output_type": "execute_result"
    }
   ],
   "source": [
    "type(fitness_dict)"
   ]
  },
  {
   "cell_type": "code",
   "execution_count": 19,
   "id": "0e804878-b59b-46ba-beff-ee1ffab625a2",
   "metadata": {},
   "outputs": [],
   "source": [
    "# fitness_dict[0] X"
   ]
  },
  {
   "cell_type": "code",
   "execution_count": 21,
   "id": "39169a31-d557-4031-b8a3-5cf98906ab52",
   "metadata": {},
   "outputs": [
    {
     "data": {
      "text/plain": [
       "100"
      ]
     },
     "execution_count": 21,
     "metadata": {},
     "output_type": "execute_result"
    }
   ],
   "source": [
    "fitness_dict[\"banana\"]"
   ]
  },
  {
   "cell_type": "code",
   "execution_count": 23,
   "id": "73bfb083-3d3d-46ea-b1e8-776e141f60f5",
   "metadata": {},
   "outputs": [
    {
     "name": "stdout",
     "output_type": "stream",
     "text": [
      "Help on built-in function get:\n",
      "\n",
      "get(key, default=None, /) method of builtins.dict instance\n",
      "    Return the value for key if key is in the dictionary, else default.\n",
      "\n"
     ]
    }
   ],
   "source": [
    "help(fitness_dict.get)"
   ]
  },
  {
   "cell_type": "code",
   "execution_count": 27,
   "id": "1657b8ae-e107-4c0a-8b55-76b7d6ddb991",
   "metadata": {},
   "outputs": [
    {
     "data": {
      "text/plain": [
       "100"
      ]
     },
     "execution_count": 27,
     "metadata": {},
     "output_type": "execute_result"
    }
   ],
   "source": [
    "fitness_dict.get(\"banana\")"
   ]
  },
  {
   "cell_type": "code",
   "execution_count": 29,
   "id": "bfd6fbde-b4e7-4c12-9b35-ffb2a657f971",
   "metadata": {},
   "outputs": [
    {
     "data": {
      "text/plain": [
       "dict_keys(['banana', 'apple'])"
      ]
     },
     "execution_count": 29,
     "metadata": {},
     "output_type": "execute_result"
    }
   ],
   "source": [
    "fitness_dict.keys()"
   ]
  },
  {
   "cell_type": "code",
   "execution_count": 31,
   "id": "b8f1aaea-95c2-49d1-bd1a-5fc24cb96d3e",
   "metadata": {},
   "outputs": [
    {
     "data": {
      "text/plain": [
       "dict_values([100, 150])"
      ]
     },
     "execution_count": 31,
     "metadata": {},
     "output_type": "execute_result"
    }
   ],
   "source": [
    "fitness_dict.values()"
   ]
  },
  {
   "cell_type": "code",
   "execution_count": 33,
   "id": "6aacd46c-7861-4dd4-8324-563feaa96c84",
   "metadata": {},
   "outputs": [
    {
     "data": {
      "text/plain": [
       "dict_values"
      ]
     },
     "execution_count": 33,
     "metadata": {},
     "output_type": "execute_result"
    }
   ],
   "source": [
    "type(fitness_dict.values())"
   ]
  },
  {
   "cell_type": "code",
   "execution_count": 35,
   "id": "efe13842-9b06-4632-9259-0df416dcca15",
   "metadata": {},
   "outputs": [
    {
     "data": {
      "text/plain": [
       "[100, 150]"
      ]
     },
     "execution_count": 35,
     "metadata": {},
     "output_type": "execute_result"
    }
   ],
   "source": [
    "list(fitness_dict.values())"
   ]
  },
  {
   "cell_type": "code",
   "execution_count": 37,
   "id": "6d0b15b7-b235-4dc3-a377-ddd4e5ccc892",
   "metadata": {},
   "outputs": [
    {
     "data": {
      "text/plain": [
       "dict_values"
      ]
     },
     "execution_count": 37,
     "metadata": {},
     "output_type": "execute_result"
    }
   ],
   "source": [
    "type(fitness_dict.values())"
   ]
  },
  {
   "cell_type": "code",
   "execution_count": 39,
   "id": "85350b90-dfa7-4a9f-8796-1f308a1580b1",
   "metadata": {},
   "outputs": [
    {
     "data": {
      "text/plain": [
       "{'banana': 100, 'apple': 150}"
      ]
     },
     "execution_count": 39,
     "metadata": {},
     "output_type": "execute_result"
    }
   ],
   "source": [
    "fitness_dict"
   ]
  },
  {
   "cell_type": "code",
   "execution_count": 41,
   "id": "f70b218b-4235-4f13-b4a8-6d1611ee7440",
   "metadata": {},
   "outputs": [],
   "source": [
    "fitness_dict[\"melon\"] = 300"
   ]
  },
  {
   "cell_type": "code",
   "execution_count": 45,
   "id": "2211105d-1231-4fdb-8c19-aa67296fabb1",
   "metadata": {},
   "outputs": [
    {
     "data": {
      "text/plain": [
       "{'banana': 100, 'apple': 150, 'melon': 300}"
      ]
     },
     "execution_count": 45,
     "metadata": {},
     "output_type": "execute_result"
    }
   ],
   "source": [
    "fitness_dict"
   ]
  },
  {
   "cell_type": "code",
   "execution_count": 47,
   "id": "e45c5a38-6035-4638-979b-edcc4a285612",
   "metadata": {},
   "outputs": [
    {
     "data": {
      "text/plain": [
       "150"
      ]
     },
     "execution_count": 47,
     "metadata": {},
     "output_type": "execute_result"
    }
   ],
   "source": [
    "fitness_dict[\"apple\"]"
   ]
  },
  {
   "cell_type": "code",
   "execution_count": 49,
   "id": "94c45074-4dfc-45eb-bccd-b0a3b184dec6",
   "metadata": {},
   "outputs": [
    {
     "name": "stdout",
     "output_type": "stream",
     "text": [
      "Help on built-in function get:\n",
      "\n",
      "get(key, default=None, /) method of builtins.dict instance\n",
      "    Return the value for key if key is in the dictionary, else default.\n",
      "\n"
     ]
    }
   ],
   "source": [
    "help(fitness_dict.get)"
   ]
  },
  {
   "cell_type": "code",
   "execution_count": 51,
   "id": "debb09b6-20f1-400c-b4e4-6dd9a257cc01",
   "metadata": {},
   "outputs": [
    {
     "data": {
      "text/plain": [
       "150"
      ]
     },
     "execution_count": 51,
     "metadata": {},
     "output_type": "execute_result"
    }
   ],
   "source": [
    "fitness_dict.get(\"apple\", 0)"
   ]
  },
  {
   "cell_type": "code",
   "execution_count": 53,
   "id": "82cbb1b0-c639-43cd-83a2-86a6aaa690aa",
   "metadata": {},
   "outputs": [
    {
     "data": {
      "text/plain": [
       "0"
      ]
     },
     "execution_count": 53,
     "metadata": {},
     "output_type": "execute_result"
    }
   ],
   "source": [
    "fitness_dict.get(\"appl\", 0)"
   ]
  },
  {
   "cell_type": "code",
   "execution_count": 55,
   "id": "91aba71e-766b-4919-be93-cbde46928109",
   "metadata": {},
   "outputs": [],
   "source": [
    "my_dict = {100: 'a', 200: 'b', 300: 'c'}"
   ]
  },
  {
   "cell_type": "code",
   "execution_count": 57,
   "id": "935ffb0a-2ebf-411a-bc97-239c415a0bb6",
   "metadata": {},
   "outputs": [
    {
     "data": {
      "text/plain": [
       "dict_keys([100, 200, 300])"
      ]
     },
     "execution_count": 57,
     "metadata": {},
     "output_type": "execute_result"
    }
   ],
   "source": [
    "my_dict.keys()"
   ]
  },
  {
   "cell_type": "code",
   "execution_count": 59,
   "id": "f893c983-3429-4bd3-97c5-8c35a5d11d37",
   "metadata": {},
   "outputs": [
    {
     "data": {
      "text/plain": [
       "dict_values(['a', 'b', 'c'])"
      ]
     },
     "execution_count": 59,
     "metadata": {},
     "output_type": "execute_result"
    }
   ],
   "source": [
    "my_dict.values()"
   ]
  },
  {
   "cell_type": "code",
   "execution_count": 61,
   "id": "90ceadb9-8c03-45dd-a867-3bf38e4861ab",
   "metadata": {},
   "outputs": [
    {
     "data": {
      "text/plain": [
       "'a'"
      ]
     },
     "execution_count": 61,
     "metadata": {},
     "output_type": "execute_result"
    }
   ],
   "source": [
    "my_dict[100]"
   ]
  },
  {
   "cell_type": "code",
   "execution_count": 63,
   "id": "3f615d01-3a16-4d82-ab30-0d32a9de2477",
   "metadata": {},
   "outputs": [],
   "source": [
    "my_dict2 = {\"key1\": \"value1\", \"key2\": \"value2\", \"key3\": \"value3\"}"
   ]
  },
  {
   "cell_type": "code",
   "execution_count": 67,
   "id": "f6dbef4f-f3a7-41fc-ac0b-c674395b9346",
   "metadata": {},
   "outputs": [
    {
     "data": {
      "text/plain": [
       "'value1'"
      ]
     },
     "execution_count": 67,
     "metadata": {},
     "output_type": "execute_result"
    }
   ],
   "source": [
    "my_dict2[\"key1\"]"
   ]
  },
  {
   "cell_type": "code",
   "execution_count": 69,
   "id": "d82331dd-1228-4152-98e4-ae0a4a0b9785",
   "metadata": {},
   "outputs": [],
   "source": [
    "my_mixed_dict = {\"key1\": 1, 23.5: \"a\", \"b\": \"c\"}"
   ]
  },
  {
   "cell_type": "code",
   "execution_count": 73,
   "id": "b76bd06c-0c47-4eed-be27-ffeaaee0f352",
   "metadata": {},
   "outputs": [
    {
     "data": {
      "text/plain": [
       "1"
      ]
     },
     "execution_count": 73,
     "metadata": {},
     "output_type": "execute_result"
    }
   ],
   "source": [
    "my_mixed_dict[\"key1\"]"
   ]
  },
  {
   "cell_type": "code",
   "execution_count": 75,
   "id": "ea104d25-da74-4879-9e72-92494f716b57",
   "metadata": {},
   "outputs": [
    {
     "data": {
      "text/plain": [
       "'a'"
      ]
     },
     "execution_count": 75,
     "metadata": {},
     "output_type": "execute_result"
    }
   ],
   "source": [
    "my_mixed_dict[23.5]"
   ]
  },
  {
   "cell_type": "code",
   "execution_count": 2,
   "id": "ce3f2ded-25c8-48f9-9f84-bbc8bd0b4772",
   "metadata": {},
   "outputs": [],
   "source": [
    "last_dict = {\"k1\": 10, \"k2\": [10, 20, 30, 40, 50], \"k3\": \"string\", \"k4\": {\"a\": 100, \"b\": 200}}"
   ]
  },
  {
   "cell_type": "code",
   "execution_count": 4,
   "id": "256a175f-d2a5-4fb0-abf2-d14c934b9f10",
   "metadata": {},
   "outputs": [
    {
     "data": {
      "text/plain": [
       "[10, 20, 30, 40, 50]"
      ]
     },
     "execution_count": 4,
     "metadata": {},
     "output_type": "execute_result"
    }
   ],
   "source": [
    "last_dict[\"k2\"]"
   ]
  },
  {
   "cell_type": "code",
   "execution_count": 6,
   "id": "8c6850a6-a494-41ce-b7fa-e6be1c944787",
   "metadata": {},
   "outputs": [
    {
     "data": {
      "text/plain": [
       "30"
      ]
     },
     "execution_count": 6,
     "metadata": {},
     "output_type": "execute_result"
    }
   ],
   "source": [
    "last_dict[\"k2\"][2]"
   ]
  },
  {
   "cell_type": "code",
   "execution_count": 8,
   "id": "d95c2a74-fcca-4bfb-9de5-d8ef175a76ed",
   "metadata": {},
   "outputs": [
    {
     "data": {
      "text/plain": [
       "200"
      ]
     },
     "execution_count": 8,
     "metadata": {},
     "output_type": "execute_result"
    }
   ],
   "source": [
    "last_dict[\"k4\"]['b']"
   ]
  },
  {
   "cell_type": "code",
   "execution_count": null,
   "id": "e1cb7101-f88d-4d33-87ee-44074283cf50",
   "metadata": {},
   "outputs": [],
   "source": []
  }
 ],
 "metadata": {
  "kernelspec": {
   "display_name": "Python 3 (ipykernel)",
   "language": "python",
   "name": "python3"
  },
  "language_info": {
   "codemirror_mode": {
    "name": "ipython",
    "version": 3
   },
   "file_extension": ".py",
   "mimetype": "text/x-python",
   "name": "python",
   "nbconvert_exporter": "python",
   "pygments_lexer": "ipython3",
   "version": "3.12.4"
  }
 },
 "nbformat": 4,
 "nbformat_minor": 5
}
